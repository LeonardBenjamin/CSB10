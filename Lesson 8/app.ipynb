{
 "cells": [
  {
   "cell_type": "code",
   "execution_count": 6,
   "metadata": {},
   "outputs": [
    {
     "name": "stdout",
     "output_type": "stream",
     "text": [
      "Kai your grade is B\n"
     ]
    }
   ],
   "source": [
    "name = input(\"Enter your name: \")\n",
    "score = int(input(\"Enter your score: \"))\n",
    "\n",
    "if score >= 90:\n",
    "    print(name, \"your grade is A\")\n",
    "elif score >= 80:\n",
    "    print(name, \"your grade is B\")\n",
    "elif score >= 70:\n",
    "    print(name, \"your grade is C\")\n",
    "elif score >= 60:\n",
    "    print(name, \"your grade is D\")\n",
    "else:\n",
    "    print(name, \"your grade is F\")"
   ]
  },
  {
   "cell_type": "code",
   "execution_count": 7,
   "metadata": {},
   "outputs": [
    {
     "name": "stdout",
     "output_type": "stream",
     "text": [
      "Chúc mừng bạn Kai trúng tuyển ĐHQG.\n"
     ]
    }
   ],
   "source": [
    "def giaytrungtuyen(name,school):\n",
    "    print(f\"Chúc mừng bạn {name} trúng tuyển {school}.\")\n",
    "\n",
    "\n",
    "if score >= 90:\n",
    "    giaytrungtuyen(name,\"RMIT\")\n",
    "elif score >= 80:\n",
    "    giaytrungtuyen(name,\"ĐHQG\")\n",
    "elif score >= 70:\n",
    "    giaytrungtuyen(name,\"Greenwich\")\n",
    "elif score >= 60:\n",
    "    giaytrungtuyen(name,\"Cao Đẳng Nghề\")\n",
    "elif score >= 50:\n",
    "    giaytrungtuyen(name,\"Nghề\")\n",
    "else:\n",
    "    giaytrungtuyen(name,\"Rớt Tốt Nghiệp\")"
   ]
  },
  {
   "cell_type": "code",
   "execution_count": 8,
   "metadata": {},
   "outputs": [
    {
     "name": "stdout",
     "output_type": "stream",
     "text": [
      "\n"
     ]
    }
   ],
   "source": [
    "def trungtuyen(name,score,school):\n",
    "    print(f\"Chúc mừng là {name} trúng tuyến {school} với điểm {score}.\")\n",
    "print()"
   ]
  }
 ],
 "metadata": {
  "kernelspec": {
   "display_name": "Python 3",
   "language": "python",
   "name": "python3"
  },
  "language_info": {
   "codemirror_mode": {
    "name": "ipython",
    "version": 3
   },
   "file_extension": ".py",
   "mimetype": "text/x-python",
   "name": "python",
   "nbconvert_exporter": "python",
   "pygments_lexer": "ipython3",
   "version": "3.12.4"
  }
 },
 "nbformat": 4,
 "nbformat_minor": 2
}
