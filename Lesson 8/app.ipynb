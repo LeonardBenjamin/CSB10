{
 "cells": [
  {
   "cell_type": "code",
   "execution_count": 40,
   "metadata": {},
   "outputs": [
    {
     "name": "stdout",
     "output_type": "stream",
     "text": [
      "[62, 92, 71, 74, 2, 68, 26, 22, 83, 35, 12, 37, 39, 75, 34, 23, 77]\n",
      "6\n"
     ]
    }
   ],
   "source": [
    "import random\n",
    "n = random.randint(1, 20)\n",
    "A = random.sample(range(1, 100), n)\n",
    "print(A)\n",
    "k = random.randint(1, 10)\n",
    "print(k)"
   ]
  },
  {
   "cell_type": "code",
   "execution_count": 41,
   "metadata": {},
   "outputs": [
    {
     "name": "stdout",
     "output_type": "stream",
     "text": [
      "[2, 12, 22, 23, 26, 34, 35, 37, 39, 62, 68, 71, 74, 75, 77, 83, 92] 6\n"
     ]
    }
   ],
   "source": [
    "A.sort()\n",
    "print(A,k)"
   ]
  }
 ],
 "metadata": {
  "kernelspec": {
   "display_name": "Python 3",
   "language": "python",
   "name": "python3"
  },
  "language_info": {
   "codemirror_mode": {
    "name": "ipython",
    "version": 3
   },
   "file_extension": ".py",
   "mimetype": "text/x-python",
   "name": "python",
   "nbconvert_exporter": "python",
   "pygments_lexer": "ipython3",
   "version": "3.12.4"
  }
 },
 "nbformat": 4,
 "nbformat_minor": 2
}
