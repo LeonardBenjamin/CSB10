{
 "cells": [
  {
   "cell_type": "code",
   "execution_count": 10,
   "metadata": {},
   "outputs": [
    {
     "name": "stdout",
     "output_type": "stream",
     "text": [
      "This number is not even.\n"
     ]
    }
   ],
   "source": [
    "def is_even(number):\n",
    "    return number % 2 == 0  # Check if the number is divisible by 2\n",
    "\n",
    "# Prompt the user to input an integer\n",
    "try:\n",
    "    user_input = int(input(\"Enter an integer: \"))\n",
    "    if is_even(user_input):\n",
    "        print(f\"This number is even.\")\n",
    "    else:\n",
    "        print(f\"This number is not even.\")\n",
    "except ValueError:\n",
    "    print(\"Please enter a valid integer.\")\n"
   ]
  },
  {
   "cell_type": "code",
   "execution_count": 11,
   "metadata": {},
   "outputs": [
    {
     "name": "stdout",
     "output_type": "stream",
     "text": [
      "Circle’s area: 3.14\n"
     ]
    }
   ],
   "source": [
    "import math\n",
    "\n",
    "def cal_area(radius):\n",
    "    return math.pi * radius ** 2  \n",
    "\n",
    "try:\n",
    "    user_input = float(input(\"Enter the radius of the circle: \"))\n",
    "    if user_input < 0:\n",
    "        print(\"The radius cannot be a negative number. Please enter a valid value.\")\n",
    "    else:\n",
    "        area = cal_area(user_input)\n",
    "        print(f\"Circle’s area: {area:.2f}\")\n",
    "except ValueError:\n",
    "    print(\"Please enter a valid number.\")\n"
   ]
  },
  {
   "cell_type": "code",
   "execution_count": null,
   "metadata": {},
   "outputs": [],
   "source": [
    "def reverse_str(input_string):\n",
    "    return input_string[::-1]  # Reverses the string using slicing\n",
    "\n",
    "# Prompt the user to input a string\n",
    "user_input = input(\"Enter a string to reverse: \")\n",
    "reversed_string = reverse_str(user_input)\n",
    "print(f\"The reversed string is: {reversed_string}\")\n"
   ]
  }
 ],
 "metadata": {
  "kernelspec": {
   "display_name": "Python 3",
   "language": "python",
   "name": "python3"
  },
  "language_info": {
   "codemirror_mode": {
    "name": "ipython",
    "version": 3
   },
   "file_extension": ".py",
   "mimetype": "text/x-python",
   "name": "python",
   "nbconvert_exporter": "python",
   "pygments_lexer": "ipython3",
   "version": "3.12.4"
  }
 },
 "nbformat": 4,
 "nbformat_minor": 2
}
