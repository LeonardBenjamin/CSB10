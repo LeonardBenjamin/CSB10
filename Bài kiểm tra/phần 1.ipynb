{
 "cells": [
  {
   "cell_type": "code",
   "execution_count": 4,
   "metadata": {},
   "outputs": [
    {
     "name": "stdout",
     "output_type": "stream",
     "text": [
      "This number is not even.\n"
     ]
    }
   ],
   "source": [
    "def is_even(number):\n",
    "    return number % 2 == 0  # Check if the number is divisible by 2\n",
    "\n",
    "# Prompt the user to input an integer\n",
    "try:\n",
    "    user_input = int(input(\"Input a number: \"))\n",
    "    if is_even(user_input):\n",
    "        print(f\"This number is even.\")\n",
    "    else:\n",
    "        print(f\"This number is not even.\")\n",
    "except ValueError:\n",
    "    print(\"Please enter a valid integer.\")\n"
   ]
  },
  {
   "cell_type": "code",
   "execution_count": 5,
   "metadata": {},
   "outputs": [
    {
     "name": "stdout",
     "output_type": "stream",
     "text": [
      "Circle’s area: 3.14\n"
     ]
    }
   ],
   "source": [
    "import math\n",
    "\n",
    "def cal_area(radius):\n",
    "    return math.pi * radius ** 2  \n",
    "\n",
    "try:\n",
    "    user_input = float(input(\"Input radius: \"))\n",
    "    if user_input < 0:\n",
    "        print(\"The radius cannot be a negative number. Please enter a valid value.\")\n",
    "    else:\n",
    "        area = cal_area(user_input)\n",
    "        print(f\"Circle’s area: {area:.2f}\")\n",
    "except ValueError:\n",
    "    print(\"Please enter a valid number.\")\n"
   ]
  },
  {
   "cell_type": "code",
   "execution_count": 6,
   "metadata": {},
   "outputs": [
    {
     "name": "stdout",
     "output_type": "stream",
     "text": [
      "Reversed text: Xdnim\n"
     ]
    }
   ],
   "source": [
    "def reverse_str(input_string):\n",
    "    return input_string[::-1]  # Reverses the string using slicing\n",
    "\n",
    "# Prompt the user to input a string\n",
    "user_input = input(\"Input a text: \")\n",
    "reversed_string = reverse_str(user_input)\n",
    "print(f\"Reversed text: {reversed_string}\")\n"
   ]
  },
  {
   "cell_type": "code",
   "execution_count": 8,
   "metadata": {},
   "outputs": [
    {
     "name": "stdout",
     "output_type": "stream",
     "text": [
      "This is a palindrome.\n"
     ]
    }
   ],
   "source": [
    "def is_palindrome(text):\n",
    "    # Convert the text to lowercase to make the check case-insensitive\n",
    "    normalized_text = text.lower()\n",
    "    # Check if the text is equal to its reverse\n",
    "    return normalized_text == normalized_text[::-1]\n",
    "\n",
    "# Prompt the user to input a string\n",
    "user_input = input(\"Input a text: \")\n",
    "\n",
    "if is_palindrome(user_input):\n",
    "    print(\"This is a palindrome.\")\n",
    "else:\n",
    "    print(\"This is not a palindrome.\")\n"
   ]
  }
 ],
 "metadata": {
  "kernelspec": {
   "display_name": "Python 3",
   "language": "python",
   "name": "python3"
  },
  "language_info": {
   "codemirror_mode": {
    "name": "ipython",
    "version": 3
   },
   "file_extension": ".py",
   "mimetype": "text/x-python",
   "name": "python",
   "nbconvert_exporter": "python",
   "pygments_lexer": "ipython3",
   "version": "3.12.4"
  }
 },
 "nbformat": 4,
 "nbformat_minor": 2
}
