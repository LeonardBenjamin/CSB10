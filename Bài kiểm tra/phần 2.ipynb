{
 "cells": [
  {
   "cell_type": "code",
   "execution_count": 5,
   "metadata": {},
   "outputs": [
    {
     "name": "stdout",
     "output_type": "stream",
     "text": [
      "5! = 120\n"
     ]
    }
   ],
   "source": [
    "import math\n",
    "num = int(input(\"Enter a number: \"))\n",
    "def find_factorial(num):\n",
    "    factorial = math.prod(range(1, num + 1))\n",
    "    return factorial\n",
    "print(f\"{num}! = {find_factorial(num)}\")"
   ]
  },
  {
   "cell_type": "code",
   "execution_count": 8,
   "metadata": {},
   "outputs": [
    {
     "name": "stdout",
     "output_type": "stream",
     "text": [
      "Sorted list: [-1, 1, 5, 8, 30, 92]\n"
     ]
    }
   ],
   "source": [
    "def sort_ascending(arr):\n",
    "    n = len(arr)\n",
    "    for i in range(n):\n",
    "        for j in range(0, n-i-1):\n",
    "            if arr[j] > arr[j+1]:\n",
    "                arr[j], arr[j+1] = arr[j+1], arr[j]\n",
    "\n",
    "numbers = [5, 1, 8, 92, -1, 30]\n",
    "\n",
    "sort_ascending(numbers)\n",
    "\n",
    "print(\"Sorted list:\", numbers)\n"
   ]
  },
  {
   "cell_type": "code",
   "execution_count": 11,
   "metadata": {},
   "outputs": [
    {
     "name": "stdout",
     "output_type": "stream",
     "text": [
      "First 5 Fibonacci numbers: [1, 1, 2, 3, 5]\n"
     ]
    }
   ],
   "source": [
    "def print_fibo(n):\n",
    "    if n <= 0:\n",
    "        print(\"Please enter a positive integer.\")\n",
    "        return\n",
    "\n",
    "    fibo_sequence = [1, 1]\n",
    "\n",
    "    for i in range(2, n):\n",
    "        next_number = fibo_sequence[i - 1] + fibo_sequence[i - 2]\n",
    "        fibo_sequence.append(next_number)\n",
    "\n",
    "    print(f\"First 5 Fibonacci numbers: {fibo_sequence[:n]}\")\n",
    "\n",
    "try:\n",
    "    user_input = int(input(\"Enter a positive integer n (> 0): \"))\n",
    "    print_fibo(user_input)\n",
    "except ValueError:\n",
    "    print(\"Please enter a valid positive integer.\")\n"
   ]
  }
 ],
 "metadata": {
  "kernelspec": {
   "display_name": "Python 3",
   "language": "python",
   "name": "python3"
  },
  "language_info": {
   "codemirror_mode": {
    "name": "ipython",
    "version": 3
   },
   "file_extension": ".py",
   "mimetype": "text/x-python",
   "name": "python",
   "nbconvert_exporter": "python",
   "pygments_lexer": "ipython3",
   "version": "3.12.4"
  }
 },
 "nbformat": 4,
 "nbformat_minor": 2
}
